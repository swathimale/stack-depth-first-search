{
 "cells": [
  {
   "cell_type": "code",
   "execution_count": null,
   "metadata": {},
   "outputs": [],
   "source": [
    "\n",
    "import xmltodict\n",
    "import pprint\n",
    "import json\n",
    "\n",
    "def GetMaxStack(diction,CalStack, PrevMax):\n",
    "    if 'call' in diction.keys():\n",
    "        for call in diction['call']:\n",
    "            CalStack = int(call['stack']) + CalStack\n",
    "            if 'callee' in call.keys():\n",
    "                if type(call['callee']) == list:\n",
    "                    for item in call['callee']:\n",
    "                        v = int(item)\n",
    "                        PrevMax = GetMaxStack(function[v],CalStack,PrevMax)\n",
    "                else:\n",
    "                    v = int(call['callee'])\n",
    "                    PrevMax = GetMaxStack(function[v],CalStack,PrevMax)\n",
    "        \n",
    "    else:\n",
    "        CalStack = int(diction['stack']) + CalStack\n",
    "        if 'callee' in diction.keys():\n",
    "            if type(diction['callee']) == list:\n",
    "                for item in diction['callee']:\n",
    "                    v = int(item)\n",
    "                    PrevMax = GetMaxStack(function[v],CalStack,PrevMax)\n",
    "            else:\n",
    "                v = int(diction['callee'])\n",
    "                PrevMax = GetMaxStack(function[v],CalStack,PrevMax)\n",
    "        \n",
    "    if CalStack > PrevMax:\n",
    "        PrevMax = CalStack\n",
    "    return PrevMax\n",
    "\n",
    "with open(r'C:\\Users\\swathi\\Downloads\\callGraph.xml') as fd1:\n",
    "    doc = xmltodict.parse(fd1.read())\n",
    "    \n",
    "callGraph = doc['callGraph']\n",
    "functions = callGraph['functions']\n",
    "function = functions['function']\n",
    "\n",
    "while 1:\n",
    "    FunName = input(\"Enter Function Name\")\n",
    "    ID = 65535\n",
    "    print(len(function))\n",
    "    for Id in range(len(function)):\n",
    "        if FunName == function[Id]['name']:\n",
    "            print(function[Id]['name'])\n",
    "            ID = Id\n",
    "            print(ID)\n",
    "    print(GetMaxStack(function[ID],0,0))"
   ]
  },
  {
   "cell_type": "code",
   "execution_count": null,
   "metadata": {},
   "outputs": [],
   "source": []
  }
 ],
 "metadata": {
  "kernelspec": {
   "display_name": "Python 3",
   "language": "python",
   "name": "python3"
  },
  "language_info": {
   "codemirror_mode": {
    "name": "ipython",
    "version": 3
   },
   "file_extension": ".py",
   "mimetype": "text/x-python",
   "name": "python",
   "nbconvert_exporter": "python",
   "pygments_lexer": "ipython3",
   "version": "3.7.6"
  }
 },
 "nbformat": 4,
 "nbformat_minor": 4
}
